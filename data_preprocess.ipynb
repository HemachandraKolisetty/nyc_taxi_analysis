{
 "cells": [
  {
   "cell_type": "code",
   "execution_count": 6,
   "metadata": {},
   "outputs": [],
   "source": [
    "import pandas as pd\n",
    "import glob\n",
    "import os\n",
    "\n",
    "parquet_folder = 'data/train'\n",
    "all_files = glob.glob(os.path.join(parquet_folder, 'yellow_tripdata_2024-*.parquet'))\n",
    "df_list = [pd.read_parquet(file) for file in all_files]\n",
    "df = pd.concat(df_list, ignore_index=True)"
   ]
  },
  {
   "cell_type": "code",
   "execution_count": 7,
   "metadata": {},
   "outputs": [],
   "source": [
    "# keep only the columns we need\n",
    "df = df[['PULocationID', 'DOLocationID', 'tpep_pickup_datetime', 'tpep_dropoff_datetime', 'trip_distance', 'total_amount']]"
   ]
  },
  {
   "cell_type": "code",
   "execution_count": 8,
   "metadata": {},
   "outputs": [
    {
     "name": "stdout",
     "output_type": "stream",
     "text": [
      "Creating time bins...\n",
      "Preparing features...\n",
      "Saving processed data to data/train/pickups_aggregated.csv...\n",
      "Data processing completed.\n"
     ]
    }
   ],
   "source": [
    "df['tpep_pickup_datetime'] = pd.to_datetime(df['tpep_pickup_datetime'])\n",
    "print(\"Creating time bins...\")\n",
    "df['time_bin'] = df['tpep_pickup_datetime'].dt.floor(f'{60}min')\n",
    "\n",
    "print(\"Preparing features...\")\n",
    "df['day_of_week'] = df['time_bin'].dt.dayofweek\n",
    "df['hour'] = df['time_bin'].dt.hour\n",
    "df['month'] = df['time_bin'].dt.month\n",
    "df['day'] = df['time_bin'].dt.day\n",
    "df['year'] = df['time_bin'].dt.year\n",
    "df['weekend'] = df['day_of_week'] >= 5\n",
    "\n",
    "output_csv = f'{parquet_folder}/train.csv'\n",
    "print(f\"Saving processed data to {output_csv}...\")\n",
    "df.to_csv(output_csv, index=False)\n",
    "print(\"Data processing completed.\")"
   ]
  }
 ],
 "metadata": {
  "kernelspec": {
   "display_name": "cv_proj4",
   "language": "python",
   "name": "python3"
  },
  "language_info": {
   "codemirror_mode": {
    "name": "ipython",
    "version": 3
   },
   "file_extension": ".py",
   "mimetype": "text/x-python",
   "name": "python",
   "nbconvert_exporter": "python",
   "pygments_lexer": "ipython3",
   "version": "3.10.15"
  }
 },
 "nbformat": 4,
 "nbformat_minor": 2
}
