{
 "cells": [
  {
   "cell_type": "markdown",
   "metadata": {},
   "source": [
    "# Inference Model"
   ]
  },
  {
   "cell_type": "code",
   "execution_count": 6,
   "metadata": {},
   "outputs": [],
   "source": [
    "# Imports\n",
    "import os\n",
    "import sys\n",
    "import subprocess\n",
    "import pandas as pd\n",
    "import glob\n",
    "import matplotlib.pyplot as plt\n",
    "import seaborn as sns\n",
    "import numpy as np\n",
    "import pandas as pd\n",
    "import time\n",
    "from datetime import datetime\n",
    "\n",
    "# Model Imports\n",
    "import category_encoders as ce\n",
    "import xgboost as xgb\n",
    "import sklearn as sk"
   ]
  },
  {
   "cell_type": "code",
   "execution_count": 11,
   "metadata": {},
   "outputs": [],
   "source": [
    "# Input information is a date a time format with hour of the day. Encoding is done on the information to get \n",
    "\n",
    "dt_test = datetime(2024, 8, 15, 10, 30)\n",
    "\n",
    "Information = {\n",
    "    \"time_info\": dt_test,\n",
    "    \"PULocation\": 100,\n",
    "    \"DOLocation\": 100,\n",
    "    \"trip_distance\": 1000.0,    \n",
    "}"
   ]
  },
  {
   "cell_type": "code",
   "execution_count": null,
   "metadata": {},
   "outputs": [],
   "source": [
    "# Base Preprocess\n",
    "def encode_info(data):\n",
    "    \n",
    "    date = data[\"time_info\"]\n",
    "    PULocationID = data[\"PULocation\"]\n",
    "    DOLocationID = data[\"DOLocation\"]\n",
    "    trip_distance = data[\"trip_distance\"]\n",
    "    \n",
    "    # Get day number, month number\n",
    "    day = date.day\n",
    "    month = date.month\n",
    "    hour = date.hour\n",
    "    \n",
    "    # Get day of the week\n",
    "    day_of_week = date.weekday()\n",
    "    \n",
    "    # Get weekend or weekday\n",
    "    weekend = 0\n",
    "    if day_of_week == 5 or day_of_week == 6:\n",
    "        weekend = 1\n",
    "        \n",
    "    data_encode = {\n",
    "        \"day\": day,\n",
    "        \"month\": month,\n",
    "        \"hour\": hour,\n",
    "        \"day_of_week\": day_of_week,\n",
    "        \"weekend\": weekend,\n",
    "        \"PULocationID\": PULocationID,\n",
    "        \"DOLocationID\": DOLocationID,\n",
    "        \"trip_distance\": trip_distance\n",
    "    }\n",
    "    \n",
    "    # Print the encoded data for debugging\n",
    "    print(\"Encoded data:\")\n",
    "    print(data_encode)\n",
    "    \n",
    "    return data_encode\n",
    "    \n",
    "    \n",
    "# Circular Encoding\n",
    "def encode_circular(data):\n",
    "    \n",
    "    day_of_week = data[\"day_of_week\"]\n",
    "    hour = data[\"hour\"]\n",
    "    \n",
    "    # Circular encoding for day of week\n",
    "    dow_sin = np.sin((day_of_week / 7) * 2 * np.pi)\n",
    "    dow_cos = np.cos((day_of_week / 7) * 2 * np.pi)\n",
    "    \n",
    "    # Circular encoding for hour of the day\n",
    "    hour_sin = np.sin((hour / 24) * 2 * np.pi)\n",
    "    hour_cos = np.cos((hour / 24) * 2 * np.pi)\n",
    "    \n",
    "    # Create a new dictionary with the circular encoded values\n",
    "    data_encode = {\n",
    "        \"dow_sin\": dow_sin,\n",
    "        \"dow_cos\": dow_cos,\n",
    "        \"hour_sin\": hour_sin,\n",
    "        \"hour_cos\": hour_cos,\n",
    "        \"day_of_month\": data[\"day\"],\n",
    "        \"month\": data[\"month\"],\n",
    "        \"weekend\": data[\"weekend\"],\n",
    "        \"trip_distance\": data[\"trip_distance\"],\n",
    "        \"PULocationID\": data[\"PULocationID\"],\n",
    "        \"DOLocationID\": data[\"DOLocationID\"]\n",
    "    }\n",
    "    \n",
    "    return data_encode\n",
    "\n",
    "def run_model_base_xgb(data, path):\n",
    "    model = xgb.XGBRegressor()\n",
    "    model.load_model(path)\n",
    "    \n",
    "    # Encode the input data\n",
    "    data_encoded = encode_info(data)\n",
    "    data_encoded = encode_circular(data_encoded)\n",
    "    \n",
    "    feature_names = model.get_booster().feature_names\n",
    "    \n",
    "    # Create a DataFrame with the encoded data\n",
    "    data_df = pd.DataFrame([data_encoded], columns=feature_names)\n",
    "    \n",
    "    # Ensure the DataFrame has the same columns as the model\n",
    "    data_df = data_df.reindex(columns=feature_names, fill_value=0)\n",
    "    \n",
    "    # Print the DataFrame for debugging\n",
    "    print(\"DataFrame for prediction:\")\n",
    "    print(data_df)\n",
    "    "
   ]
  },
  {
   "cell_type": "code",
   "execution_count": 15,
   "metadata": {},
   "outputs": [
    {
     "name": "stdout",
     "output_type": "stream",
     "text": [
      "Encoded data:\n",
      "{'day': 15, 'month': 8, 'hour': 10, 'day_of_week': 3, 'weekend': 0, 'PULocationID': 100, 'DOLocationID': 100, 'trip_distance': 1000.0}\n",
      "DataFrame for prediction:\n",
      "   PULocationID  DOLocationID  trip_distance  day_of_month  month  weekend  \\\n",
      "0           100           100         1000.0            15      8        0   \n",
      "\n",
      "        dow_sin  dow_cos  hour_sin  hour_cos  \n",
      "0  1.224647e-16     -1.0  0.398401 -0.917211  \n"
     ]
    }
   ],
   "source": [
    "run_model_base_xgb(Information, \"models/total_amount_base_model.json\")"
   ]
  },
  {
   "cell_type": "code",
   "execution_count": null,
   "metadata": {},
   "outputs": [],
   "source": []
  }
 ],
 "metadata": {
  "kernelspec": {
   "display_name": "base_jupyter",
   "language": "python",
   "name": "python3"
  },
  "language_info": {
   "codemirror_mode": {
    "name": "ipython",
    "version": 3
   },
   "file_extension": ".py",
   "mimetype": "text/x-python",
   "name": "python",
   "nbconvert_exporter": "python",
   "pygments_lexer": "ipython3",
   "version": "3.10.16"
  }
 },
 "nbformat": 4,
 "nbformat_minor": 2
}
